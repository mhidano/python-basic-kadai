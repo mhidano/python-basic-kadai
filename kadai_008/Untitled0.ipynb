{
  "nbformat": 4,
  "nbformat_minor": 0,
  "metadata": {
    "colab": {
      "provenance": []
    },
    "kernelspec": {
      "name": "python3",
      "display_name": "Python 3"
    },
    "language_info": {
      "name": "python"
    }
  },
  "cells": [
    {
      "cell_type": "code",
      "source": [
        "import random\n",
        "\n",
        "var = random.randint(0, 15)\n",
        "\n",
        "if (var % 15) == 0:\n",
        "  print(\"FizzBuzz\")\n",
        "elif (var % 3) == 0:\n",
        "  print(\"Fizz\")\n",
        "elif (var % 5) == 0:\n",
        "  print(\"Buzz\")\n",
        "else:\n",
        "  print(var)"
      ],
      "metadata": {
        "colab": {
          "base_uri": "https://localhost:8080/"
        },
        "id": "dcpVDe2Aw86F",
        "outputId": "73ef1d92-c97a-4331-8b8c-96f0408d8614"
      },
      "execution_count": 69,
      "outputs": [
        {
          "output_type": "stream",
          "name": "stdout",
          "text": [
            "14\n"
          ]
        }
      ]
    }
  ]
}