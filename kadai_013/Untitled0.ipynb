{
  "nbformat": 4,
  "nbformat_minor": 0,
  "metadata": {
    "colab": {
      "provenance": []
    },
    "kernelspec": {
      "name": "python3",
      "display_name": "Python 3"
    },
    "language_info": {
      "name": "python"
    }
  },
  "cells": [
    {
      "cell_type": "code",
      "source": [
        "def buy_product(money:int, tax:int) -> int:\n",
        "  return money * (1 + (tax / 100))\n",
        "\n",
        "print(f\"税込{buy_product(100, 10)}円です\")"
      ],
      "metadata": {
        "colab": {
          "base_uri": "https://localhost:8080/"
        },
        "id": "ScHhJJtwBeWO",
        "outputId": "851a00a6-ee60-4719-f3aa-fb6e3bcbc60b"
      },
      "execution_count": 29,
      "outputs": [
        {
          "output_type": "stream",
          "name": "stdout",
          "text": [
            "税込110.00000000000001円です\n"
          ]
        }
      ]
    }
  ]
}